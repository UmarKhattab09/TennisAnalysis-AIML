{
 "cells": [
  {
   "cell_type": "code",
   "execution_count": 1,
   "id": "923c0dc9",
   "metadata": {},
   "outputs": [
    {
     "name": "stdout",
     "output_type": "stream",
     "text": [
      "Collecting roboflow\n",
      "  Downloading roboflow-1.2.1-py3-none-any.whl.metadata (9.7 kB)\n",
      "Requirement already satisfied: certifi in c:\\users\\khatt\\documents\\tennisanalysis-aiml\\venv\\lib\\site-packages (from roboflow) (2025.7.14)\n",
      "Collecting idna==3.7 (from roboflow)\n",
      "  Downloading idna-3.7-py3-none-any.whl.metadata (9.9 kB)\n",
      "Requirement already satisfied: cycler in c:\\users\\khatt\\documents\\tennisanalysis-aiml\\venv\\lib\\site-packages (from roboflow) (0.12.1)\n",
      "Requirement already satisfied: kiwisolver>=1.3.1 in c:\\users\\khatt\\documents\\tennisanalysis-aiml\\venv\\lib\\site-packages (from roboflow) (1.4.8)\n",
      "Requirement already satisfied: matplotlib in c:\\users\\khatt\\documents\\tennisanalysis-aiml\\venv\\lib\\site-packages (from roboflow) (3.10.3)\n",
      "Requirement already satisfied: numpy>=1.18.5 in c:\\users\\khatt\\documents\\tennisanalysis-aiml\\venv\\lib\\site-packages (from roboflow) (2.2.6)\n",
      "Collecting opencv-python-headless==4.10.0.84 (from roboflow)\n",
      "  Downloading opencv_python_headless-4.10.0.84-cp37-abi3-win_amd64.whl.metadata (20 kB)\n",
      "Requirement already satisfied: Pillow>=7.1.2 in c:\\users\\khatt\\documents\\tennisanalysis-aiml\\venv\\lib\\site-packages (from roboflow) (11.3.0)\n",
      "Collecting pillow-heif<2 (from roboflow)\n",
      "  Downloading pillow_heif-1.0.0-cp310-cp310-win_amd64.whl.metadata (9.8 kB)\n",
      "Collecting pillow-avif-plugin<2 (from roboflow)\n",
      "  Downloading pillow_avif_plugin-1.5.2-cp310-cp310-win_amd64.whl.metadata (2.2 kB)\n",
      "Requirement already satisfied: python-dateutil in c:\\users\\khatt\\documents\\tennisanalysis-aiml\\venv\\lib\\site-packages (from roboflow) (2.9.0.post0)\n",
      "Collecting python-dotenv (from roboflow)\n",
      "  Using cached python_dotenv-1.1.1-py3-none-any.whl.metadata (24 kB)\n",
      "Requirement already satisfied: requests in c:\\users\\khatt\\documents\\tennisanalysis-aiml\\venv\\lib\\site-packages (from roboflow) (2.32.4)\n",
      "Requirement already satisfied: six in c:\\users\\khatt\\documents\\tennisanalysis-aiml\\venv\\lib\\site-packages (from roboflow) (1.17.0)\n",
      "Requirement already satisfied: urllib3>=1.26.6 in c:\\users\\khatt\\documents\\tennisanalysis-aiml\\venv\\lib\\site-packages (from roboflow) (2.5.0)\n",
      "Requirement already satisfied: tqdm>=4.41.0 in c:\\users\\khatt\\documents\\tennisanalysis-aiml\\venv\\lib\\site-packages (from roboflow) (4.67.1)\n",
      "Requirement already satisfied: PyYAML>=5.3.1 in c:\\users\\khatt\\documents\\tennisanalysis-aiml\\venv\\lib\\site-packages (from roboflow) (6.0.2)\n",
      "Collecting requests-toolbelt (from roboflow)\n",
      "  Using cached requests_toolbelt-1.0.0-py2.py3-none-any.whl.metadata (14 kB)\n",
      "Collecting filetype (from roboflow)\n",
      "  Using cached filetype-1.2.0-py2.py3-none-any.whl.metadata (6.5 kB)\n",
      "Requirement already satisfied: colorama in c:\\users\\khatt\\documents\\tennisanalysis-aiml\\venv\\lib\\site-packages (from tqdm>=4.41.0->roboflow) (0.4.6)\n",
      "Requirement already satisfied: contourpy>=1.0.1 in c:\\users\\khatt\\documents\\tennisanalysis-aiml\\venv\\lib\\site-packages (from matplotlib->roboflow) (1.3.2)\n",
      "Requirement already satisfied: fonttools>=4.22.0 in c:\\users\\khatt\\documents\\tennisanalysis-aiml\\venv\\lib\\site-packages (from matplotlib->roboflow) (4.59.0)\n",
      "Requirement already satisfied: packaging>=20.0 in c:\\users\\khatt\\documents\\tennisanalysis-aiml\\venv\\lib\\site-packages (from matplotlib->roboflow) (25.0)\n",
      "Requirement already satisfied: pyparsing>=2.3.1 in c:\\users\\khatt\\documents\\tennisanalysis-aiml\\venv\\lib\\site-packages (from matplotlib->roboflow) (3.2.3)\n",
      "Requirement already satisfied: charset_normalizer<4,>=2 in c:\\users\\khatt\\documents\\tennisanalysis-aiml\\venv\\lib\\site-packages (from requests->roboflow) (3.4.2)\n",
      "Downloading roboflow-1.2.1-py3-none-any.whl (86 kB)\n",
      "Downloading idna-3.7-py3-none-any.whl (66 kB)\n",
      "Downloading opencv_python_headless-4.10.0.84-cp37-abi3-win_amd64.whl (38.8 MB)\n",
      "   ---------------------------------------- 0.0/38.8 MB ? eta -:--:--\n",
      "   - -------------------------------------- 1.3/38.8 MB 6.7 MB/s eta 0:00:06\n",
      "   -- ------------------------------------- 2.9/38.8 MB 7.6 MB/s eta 0:00:05\n",
      "   ----- ---------------------------------- 5.5/38.8 MB 9.1 MB/s eta 0:00:04\n",
      "   --------- ------------------------------ 8.9/38.8 MB 11.1 MB/s eta 0:00:03\n",
      "   ------------- -------------------------- 13.4/38.8 MB 13.1 MB/s eta 0:00:02\n",
      "   ------------------- -------------------- 18.6/38.8 MB 15.1 MB/s eta 0:00:02\n",
      "   ------------------------ --------------- 23.3/38.8 MB 16.1 MB/s eta 0:00:01\n",
      "   ---------------------------- ----------- 28.0/38.8 MB 17.1 MB/s eta 0:00:01\n",
      "   ---------------------------------- ----- 33.0/38.8 MB 17.6 MB/s eta 0:00:01\n",
      "   -------------------------------------- - 37.7/38.8 MB 18.0 MB/s eta 0:00:01\n",
      "   ---------------------------------------- 38.8/38.8 MB 17.4 MB/s eta 0:00:00\n",
      "Downloading pillow_avif_plugin-1.5.2-cp310-cp310-win_amd64.whl (9.9 MB)\n",
      "   ---------------------------------------- 0.0/9.9 MB ? eta -:--:--\n",
      "   ----------------- ---------------------- 4.2/9.9 MB 19.4 MB/s eta 0:00:01\n",
      "   ----------------------------------- ---- 8.7/9.9 MB 20.7 MB/s eta 0:00:01\n",
      "   ---------------------------------------- 9.9/9.9 MB 19.2 MB/s eta 0:00:00\n",
      "Downloading pillow_heif-1.0.0-cp310-cp310-win_amd64.whl (5.3 MB)\n",
      "   ---------------------------------------- 0.0/5.3 MB ? eta -:--:--\n",
      "   ----------------------------------- ---- 4.7/5.3 MB 22.0 MB/s eta 0:00:01\n",
      "   ---------------------------------------- 5.3/5.3 MB 20.1 MB/s eta 0:00:00\n",
      "Downloading filetype-1.2.0-py2.py3-none-any.whl (19 kB)\n",
      "Using cached python_dotenv-1.1.1-py3-none-any.whl (20 kB)\n",
      "Using cached requests_toolbelt-1.0.0-py2.py3-none-any.whl (54 kB)\n",
      "Installing collected packages: pillow-avif-plugin, filetype, python-dotenv, pillow-heif, opencv-python-headless, idna, requests-toolbelt, roboflow\n",
      "\n",
      "   ---------------------------------------- 0/8 [pillow-avif-plugin]\n",
      "   ----- ---------------------------------- 1/8 [filetype]\n",
      "   ----- ---------------------------------- 1/8 [filetype]\n",
      "   ----- ---------------------------------- 1/8 [filetype]\n",
      "   ----- ---------------------------------- 1/8 [filetype]\n",
      "   ---------- ----------------------------- 2/8 [python-dotenv]\n",
      "   ---------- ----------------------------- 2/8 [python-dotenv]\n",
      "   ---------- ----------------------------- 2/8 [python-dotenv]\n",
      "   ---------- ----------------------------- 2/8 [python-dotenv]\n",
      "   --------------- ------------------------ 3/8 [pillow-heif]\n",
      "   --------------- ------------------------ 3/8 [pillow-heif]\n",
      "   --------------- ------------------------ 3/8 [pillow-heif]\n",
      "   -------------------- ------------------- 4/8 [opencv-python-headless]\n",
      "   -------------------- ------------------- 4/8 [opencv-python-headless]\n",
      "   -------------------- ------------------- 4/8 [opencv-python-headless]\n",
      "   -------------------- ------------------- 4/8 [opencv-python-headless]\n",
      "   -------------------- ------------------- 4/8 [opencv-python-headless]\n",
      "   -------------------- ------------------- 4/8 [opencv-python-headless]\n",
      "   -------------------- ------------------- 4/8 [opencv-python-headless]\n",
      "  Attempting uninstall: idna\n",
      "   -------------------- ------------------- 4/8 [opencv-python-headless]\n",
      "    Found existing installation: idna 3.10\n",
      "   -------------------- ------------------- 4/8 [opencv-python-headless]\n",
      "    Uninstalling idna-3.10:\n",
      "   -------------------- ------------------- 4/8 [opencv-python-headless]\n",
      "      Successfully uninstalled idna-3.10\n",
      "   -------------------- ------------------- 4/8 [opencv-python-headless]\n",
      "   ------------------------- -------------- 5/8 [idna]\n",
      "   ------------------------- -------------- 5/8 [idna]\n",
      "   ------------------------- -------------- 5/8 [idna]\n",
      "   ------------------------------ --------- 6/8 [requests-toolbelt]\n",
      "   ------------------------------ --------- 6/8 [requests-toolbelt]\n",
      "   ------------------------------ --------- 6/8 [requests-toolbelt]\n",
      "   ------------------------------ --------- 6/8 [requests-toolbelt]\n",
      "   ------------------------------ --------- 6/8 [requests-toolbelt]\n",
      "   ----------------------------------- ---- 7/8 [roboflow]\n",
      "   ----------------------------------- ---- 7/8 [roboflow]\n",
      "   ----------------------------------- ---- 7/8 [roboflow]\n",
      "   ----------------------------------- ---- 7/8 [roboflow]\n",
      "   ----------------------------------- ---- 7/8 [roboflow]\n",
      "   ----------------------------------- ---- 7/8 [roboflow]\n",
      "   ----------------------------------- ---- 7/8 [roboflow]\n",
      "   ----------------------------------- ---- 7/8 [roboflow]\n",
      "   ----------------------------------- ---- 7/8 [roboflow]\n",
      "   ---------------------------------------- 8/8 [roboflow]\n",
      "\n",
      "Successfully installed filetype-1.2.0 idna-3.7 opencv-python-headless-4.10.0.84 pillow-avif-plugin-1.5.2 pillow-heif-1.0.0 python-dotenv-1.1.1 requests-toolbelt-1.0.0 roboflow-1.2.1\n"
     ]
    }
   ],
   "source": [
    "!pip install roboflow"
   ]
  },
  {
   "cell_type": "markdown",
   "id": "de5cb5b0",
   "metadata": {},
   "source": [
    "# Get Dataset"
   ]
  },
  {
   "cell_type": "code",
   "execution_count": null,
   "id": "c5ce1d14",
   "metadata": {},
   "outputs": [],
   "source": [
    "from dotenv import load_dotenv\n",
    "import os\n",
    "load_dotenv()\n",
    "api_key = os.getenv(\"API_KEY\")\n"
   ]
  },
  {
   "cell_type": "code",
   "execution_count": 28,
   "id": "4574c611",
   "metadata": {},
   "outputs": [
    {
     "name": "stdout",
     "output_type": "stream",
     "text": [
      "loading Roboflow workspace...\n",
      "loading Roboflow workspace...\n",
      "loading Roboflow project...\n"
     ]
    }
   ],
   "source": [
    "from roboflow import Roboflow\n",
    "rf = Roboflow(api_key=api_key)\n",
    "project = rf.workspace(\"test-e21yj\").project(\"tennis-ball-detection-sbnu6\")\n",
    "version = project.version(1)\n",
    "dataset = version.download(\"yolov5\")"
   ]
  },
  {
   "cell_type": "code",
   "execution_count": 44,
   "id": "f018811e",
   "metadata": {},
   "outputs": [
    {
     "data": {
      "text/plain": [
       "'tennis-ball-detection-1/tennis-ball-detection-1/valid'"
      ]
     },
     "execution_count": 44,
     "metadata": {},
     "output_type": "execute_result"
    }
   ],
   "source": [
    "import shutil\n",
    "#shutil.move('tennis-ball-detection-1/train',\n",
    "      #      'tennis-ball-detection-1/tennis-ball-detection-1/train')\n",
    "shutil.move('tennis-ball-detection-1/test',\n",
    "            'tennis-ball-detection-1/tennis-ball-detection-1/test')\n",
    "shutil.move('tennis-ball-detection-1/valid',\n",
    "            'tennis-ball-detection-1/tennis-ball-detection-1/valid')"
   ]
  },
  {
   "cell_type": "code",
   "execution_count": 47,
   "id": "72353394",
   "metadata": {},
   "outputs": [
    {
     "ename": "NameError",
     "evalue": "name 'data' is not defined",
     "output_type": "error",
     "traceback": [
      "\u001b[1;31m---------------------------------------------------------------------------\u001b[0m",
      "\u001b[1;31mNameError\u001b[0m                                 Traceback (most recent call last)",
      "Cell \u001b[1;32mIn[47], line 1\u001b[0m\n\u001b[1;32m----> 1\u001b[0m {dataset\u001b[38;5;241m.\u001b[39mlocation}\u001b[38;5;241m/\u001b[39m\u001b[43mdata\u001b[49m\u001b[38;5;241m.\u001b[39myaml\n",
      "\u001b[1;31mNameError\u001b[0m: name 'data' is not defined"
     ]
    }
   ],
   "source": [
    "{dataset.location}/data.yaml"
   ]
  },
  {
   "cell_type": "code",
   "execution_count": null,
   "id": "ae9aefe6",
   "metadata": {},
   "outputs": [],
   "source": [
    "## Training The Model with ultralytics\n",
    "!yolo task=detect mode=train model=yolov516u.pt data={dataset.location}/data.yaml epochs=100 imgsz=640"
   ]
  }
 ],
 "metadata": {
  "kernelspec": {
   "display_name": "venv",
   "language": "python",
   "name": "python3"
  },
  "language_info": {
   "codemirror_mode": {
    "name": "ipython",
    "version": 3
   },
   "file_extension": ".py",
   "mimetype": "text/x-python",
   "name": "python",
   "nbconvert_exporter": "python",
   "pygments_lexer": "ipython3",
   "version": "3.10.18"
  }
 },
 "nbformat": 4,
 "nbformat_minor": 5
}
